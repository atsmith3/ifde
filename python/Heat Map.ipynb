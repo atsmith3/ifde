{
 "cells": [
  {
   "cell_type": "code",
   "execution_count": 2,
   "metadata": {},
   "outputs": [],
   "source": [
    "#Create heatmap for images"
   ]
  },
  {
   "cell_type": "code",
   "execution_count": 4,
   "metadata": {},
   "outputs": [],
   "source": [
    "import numpy as np \n",
    "import matplotlib\n",
    "import matplotlib.pyplot as plt\n",
    "import pandas as pd"
   ]
  },
  {
   "cell_type": "code",
   "execution_count": 173,
   "metadata": {},
   "outputs": [
    {
     "data": {
      "text/plain": [
       "\"import csv\\n\\nx = [1,1,1,1,2,2,2,2,3,3,3,3,4,4,4,4]\\ny = [1,2,3,4,1,2,3,4,1,2,3,4,1,2,3,4]\\nd = [0,1,2,3,4,5,6,7,8,9,10,0,1,2,3,4]\\n\\nwith open('picture_data.csv', 'w') as csvfile:\\n        fw = csv.writer(csvfile)\\n        j=0\\n        for i in x:\\n            fw.writerow([i, y[j], d[j]])\\n            j = j+1\""
      ]
     },
     "execution_count": 173,
     "metadata": {},
     "output_type": "execute_result"
    }
   ],
   "source": [
    "#NOT NEEDED IN FINAL JUST FOR TEST USE\n",
    "\n",
    "'''import csv\n",
    "\n",
    "x = [1,1,1,1,2,2,2,2,3,3,3,3,4,4,4,4]\n",
    "y = [1,2,3,4,1,2,3,4,1,2,3,4,1,2,3,4]\n",
    "d = [0,1,2,3,4,5,6,7,8,9,10,0,1,2,3,4]\n",
    "\n",
    "with open('picture_data.csv', 'w') as csvfile:\n",
    "        fw = csv.writer(csvfile)\n",
    "        j=0\n",
    "        for i in x:\n",
    "            fw.writerow([i, y[j], d[j]])\n",
    "            j = j+1'''"
   ]
  },
  {
   "cell_type": "code",
   "execution_count": 177,
   "metadata": {},
   "outputs": [],
   "source": [
    "width = 4\n",
    "count = 1\n",
    "data = {}\n",
    "path = 'picture_data.csv'\n",
    "with open(path, 'r') as f:\n",
    "    for lines in f:\n",
    "        temp = lines.split(',')\n",
    "        temp[-1] = temp[-1].strip()\n",
    "        x = str(temp[0])\n",
    "        if count != width+1:\n",
    "            if x not in data:\n",
    "                data[x] = [int(temp[2])]\n",
    "                count = 0\n",
    "            else:\n",
    "                data[x].append(int(temp[2]))\n",
    "            count=count+1"
   ]
  },
  {
   "cell_type": "code",
   "execution_count": 178,
   "metadata": {},
   "outputs": [],
   "source": [
    "df = pd.DataFrame(data)\n",
    "df = df.transpose()\n",
    "narray = df.to_numpy()"
   ]
  },
  {
   "cell_type": "code",
   "execution_count": 179,
   "metadata": {},
   "outputs": [
    {
     "data": {
      "image/png": "[encoded data removed]",
      "text/plain": [
       "<Figure size 432x288 with 2 Axes>"
      ]
     },
     "metadata": {
      "needs_background": "light"
     },
     "output_type": "display_data"
    }
   ],
   "source": [
    "heat = plt.imshow(narray, cmap='OrRd', interpolation='nearest')\n",
    "plt.colorbar(heat)\n",
    "plt.show()"
   ]
  },
  {
   "cell_type": "code",
   "execution_count": null,
   "metadata": {},
   "outputs": [],
   "source": []
  }
 ],
 "metadata": {
  "kernelspec": {
   "display_name": "Python 3",
   "language": "python",
   "name": "python3"
  },
  "language_info": {
   "codemirror_mode": {
    "name": "ipython",
    "version": 3
   },
   "file_extension": ".py",
   "mimetype": "text/x-python",
   "name": "python",
   "nbconvert_exporter": "python",
   "pygments_lexer": "ipython3",
   "version": "3.7.0"
  }
 },
 "nbformat": 4,
 "nbformat_minor": 2
}
